{
 "cells": [
  {
   "cell_type": "markdown",
   "id": "684dbabd",
   "metadata": {},
   "source": [
    "## ***Codigo para comprimir las Imagenes:***"
   ]
  },
  {
   "cell_type": "markdown",
   "id": "877a9121",
   "metadata": {},
   "source": [
    "Creamos el siguiente código para comprimir las imágenes y que sea más rápido y fácil el procesamiento. Como podemos llegar a querer comprimir las imágenes varias veces en distintos tamaños para poder así calcular bien los datos, y dado que al comprimir las imágenes corremos el riesgo de perder detalles y, por ende, información, creamos carpetas para guardar las imágenes. Si las carpetas ya existen, no las creamos, solamente agregamos las imágenes; si no, creamos las carpetas y guardamos las imágenes ahí."
   ]
  },
  {
   "cell_type": "markdown",
   "id": "fc08e341",
   "metadata": {},
   "source": [
    "Importamos las librerias necesarias para todo el codigo:"
   ]
  },
  {
   "cell_type": "code",
   "execution_count": 1,
   "id": "6c039943",
   "metadata": {},
   "outputs": [],
   "source": [
    "import numpy as np                  \n",
    "from PIL import Image  # Permite abrir, modificar y guardar imágenes en distintos formatos               \n",
    "import os  # Permite crear carpetas, listar archivos y manejar rutas en el sistema operativo"
   ]
  },
  {
   "cell_type": "markdown",
   "id": "87f8a1ce",
   "metadata": {},
   "source": [
    "Implementamos el codigo para comprimir las imagenes"
   ]
  },
  {
   "cell_type": "code",
   "execution_count": 8,
   "id": "b50674be",
   "metadata": {},
   "outputs": [
    {
     "name": "stdout",
     "output_type": "stream",
     "text": [
      "Se comprimieron y guardaron las imágenes en 'Healthy_comprimido'.\n",
      "Se comprimieron y guardaron las imágenes en 'Parkinson_comprimido'.\n"
     ]
    }
   ],
   "source": [
    "carpeta_healty = \"DatasetTP/Healthy\"\n",
    "carpeta_comprimida_healthy = \"Healthy_comprimido\"\n",
    "\n",
    "carpeta_parkinson = \"DatasetTP/Parkinson\"\n",
    "carpeta_comprimida_parkinson = \"Parkinson_comprimido\"\n",
    "\n",
    "# Crear la carpeta comprimida de healthy si no existe\n",
    "if not os.path.exists(carpeta_comprimida_healthy):\n",
    "    os.makedirs(carpeta_comprimida_healthy)\n",
    "\n",
    "# Crear la carpeta comprimida de parkinson si no existe\n",
    "if not os.path.exists(carpeta_comprimida_parkinson):\n",
    "    os.makedirs(carpeta_comprimida_parkinson)\n",
    "\n",
    "# Pedimos al usuario el nuevo tamaño\n",
    "ancho = int(input(\"Ingrese el nuevo ancho de las imágenes: \"))\n",
    "alto = int(input(\"Ingrese el nuevo alto de las imágenes: \"))\n",
    "\n",
    "# Procesamos las imágenes en la carpeta Healthy y las guardamos en la carpeta comprimida Healthy\n",
    "for imagen in os.listdir(carpeta_healty):\n",
    "    if not imagen.lower().endswith('.png'): # Verificamos que sea un archivo PNG, sino lo salteamos\n",
    "        continue\n",
    "    \n",
    "    ruta_imagen = os.path.join(carpeta_healty, imagen) \n",
    "    imagen_original = Image.open(ruta_imagen).convert(\"L\") \n",
    "    imagen_redimensionada = imagen_original.resize((ancho, alto), Image.LANCZOS) # Comprimimos la imagen al nuevo tamaño\n",
    "    \n",
    "    # Guardar la imagen redimensionada en la carpeta de imagenes comprimidas con el mismo nombre\n",
    "    ruta_guardado = os.path.join(carpeta_comprimida_healthy, imagen) # Creamos la ruta de guardado en la carpeta comprimida\n",
    "    imagen_redimensionada.save(ruta_guardado) # # Guardamos la imagen comprimida en la carpeta de imagenes comprimidas correspondiente\n",
    "\n",
    "print(f\"Se comprimieron y guardaron las imágenes en '{carpeta_comprimida_healthy}'.\")\n",
    "\n",
    "for imagen in os.listdir(carpeta_parkinson):\n",
    "    if not imagen.lower().endswith('.png'): \n",
    "        continue\n",
    "    \n",
    "    ruta_imagen = os.path.join(carpeta_parkinson, imagen)\n",
    "    imagen_original = Image.open(ruta_imagen).convert(\"L\")\n",
    "    imagen_redimensionada = imagen_original.resize((ancho, alto), Image.LANCZOS) \n",
    "    \n",
    "    # Guardar la imagen redimensionada en la carpeta de imagenes comprimidas con el mismo nombre\n",
    "    ruta_guardado = os.path.join(carpeta_comprimida_parkinson, imagen)\n",
    "    imagen_redimensionada.save(ruta_guardado)\n",
    "\n",
    "print(f\"Se comprimieron y guardaron las imágenes en '{carpeta_comprimida_parkinson}'.\")\n"
   ]
  },
  {
   "cell_type": "markdown",
   "id": "73b31a6d",
   "metadata": {},
   "source": [
    "## ***Parte 1: Descenso de gradiente***"
   ]
  },
  {
   "cell_type": "markdown",
   "id": "bdf2a773",
   "metadata": {},
   "source": [
    "Calculamos las derivada de *L* con respecto a w y a b y creamos funciones para guardar esos valores"
   ]
  },
  {
   "cell_type": "code",
   "execution_count": null,
   "id": "02ac052d",
   "metadata": {},
   "outputs": [],
   "source": [
    "# Derivada de L con resecto a w\n",
    "def derivada_L_con_respecto_a_w(L):\n",
    "    return "
   ]
  }
 ],
 "metadata": {
  "kernelspec": {
   "display_name": "metodos",
   "language": "python",
   "name": "python3"
  },
  "language_info": {
   "codemirror_mode": {
    "name": "ipython",
    "version": 3
   },
   "file_extension": ".py",
   "mimetype": "text/x-python",
   "name": "python",
   "nbconvert_exporter": "python",
   "pygments_lexer": "ipython3",
   "version": "3.10.16"
  }
 },
 "nbformat": 4,
 "nbformat_minor": 5
}
